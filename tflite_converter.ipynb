{
  "nbformat": 4,
  "nbformat_minor": 0,
  "metadata": {
    "colab": {
      "name": "tflite_converter.ipynb",
      "provenance": [],
      "collapsed_sections": [],
      "toc_visible": true
    },
    "kernelspec": {
      "name": "python3",
      "display_name": "Python 3"
    }
  },
  "cells": [
    {
      "cell_type": "code",
      "metadata": {
        "id": "T2Q2Eu6eNdjQ"
      },
      "source": [
        "import tensorflow as tf\r\n",
        "from tensorflow import keras\r\n"
      ],
      "execution_count": null,
      "outputs": []
    },
    {
      "cell_type": "code",
      "metadata": {
        "colab": {
          "base_uri": "https://localhost:8080/"
        },
        "id": "9lJj01FxSTRb",
        "outputId": "09fb2a58-0f72-4707-d662-262e8b54a814"
      },
      "source": [
        "!pip install 'tensorflow-hub == 0.5'\r\n"
      ],
      "execution_count": null,
      "outputs": [
        {
          "output_type": "stream",
          "text": [
            "Collecting tensorflow-hub==0.5\n",
            "\u001b[?25l  Downloading https://files.pythonhosted.org/packages/b5/be/f18c352d84382d9c795a0f37eaf16d42ace7d161fbb0ad20bdcd5e550015/tensorflow_hub-0.5.0-py2.py3-none-any.whl (78kB)\n",
            "\r\u001b[K     |████▏                           | 10kB 14.9MB/s eta 0:00:01\r\u001b[K     |████████▍                       | 20kB 12.1MB/s eta 0:00:01\r\u001b[K     |████████████▋                   | 30kB 8.4MB/s eta 0:00:01\r\u001b[K     |████████████████▉               | 40kB 6.5MB/s eta 0:00:01\r\u001b[K     |█████████████████████           | 51kB 4.5MB/s eta 0:00:01\r\u001b[K     |█████████████████████████▏      | 61kB 5.0MB/s eta 0:00:01\r\u001b[K     |█████████████████████████████▍  | 71kB 5.1MB/s eta 0:00:01\r\u001b[K     |████████████████████████████████| 81kB 3.4MB/s \n",
            "\u001b[?25hRequirement already satisfied: numpy>=1.12.0 in /usr/local/lib/python3.7/dist-packages (from tensorflow-hub==0.5) (1.19.5)\n",
            "Requirement already satisfied: protobuf>=3.4.0 in /usr/local/lib/python3.7/dist-packages (from tensorflow-hub==0.5) (3.12.4)\n",
            "Requirement already satisfied: six>=1.10.0 in /usr/local/lib/python3.7/dist-packages (from tensorflow-hub==0.5) (1.15.0)\n",
            "Requirement already satisfied: setuptools in /usr/local/lib/python3.7/dist-packages (from protobuf>=3.4.0->tensorflow-hub==0.5) (54.0.0)\n",
            "Installing collected packages: tensorflow-hub\n",
            "  Found existing installation: tensorflow-hub 0.11.0\n",
            "    Uninstalling tensorflow-hub-0.11.0:\n",
            "      Successfully uninstalled tensorflow-hub-0.11.0\n",
            "Successfully installed tensorflow-hub-0.5.0\n"
          ],
          "name": "stdout"
        }
      ]
    },
    {
      "cell_type": "code",
      "metadata": {
        "id": "oLL6vK2tTASN"
      },
      "source": [
        "import tensorflow_hub as hub\r\n"
      ],
      "execution_count": null,
      "outputs": []
    },
    {
      "cell_type": "code",
      "metadata": {
        "id": "oKKT4rFkOyjF"
      },
      "source": [
        "model_path='/content/drive/MyDrive/VGG16_Garbage_Classifier.h5'\r\n",
        "model=keras.models.load_model(model_path)"
      ],
      "execution_count": null,
      "outputs": []
    },
    {
      "cell_type": "code",
      "metadata": {
        "id": "7QbzDJ0gRoip"
      },
      "source": [
        "reloaded = keras.models.load_model(model_path, custom_objects={'KerasLayer':hub.KerasLayer})\r\n"
      ],
      "execution_count": null,
      "outputs": []
    },
    {
      "cell_type": "code",
      "metadata": {
        "colab": {
          "base_uri": "https://localhost:8080/"
        },
        "id": "cCIlQruqOq8E",
        "outputId": "b9903047-d163-4dd0-f9f7-fb597c7b8317"
      },
      "source": [
        "TFLITE_MODEL = f\"/content/drive/MyDrive/projects/garbage classification/VGG16_Garbage_Classifier.tflite\"\r\n",
        "\r\n",
        "\r\n",
        "# Get the concrete function from the Keras model.\r\n",
        "run_model = tf.function(lambda x : reloaded(x))\r\n",
        "\r\n",
        "# Save the concrete function.\r\n",
        "concrete_func = run_model.get_concrete_function(\r\n",
        "    tf.TensorSpec(model.inputs[0].shape, model.inputs[0].dtype)\r\n",
        ")\r\n",
        "\r\n",
        "# Convert the model to standard TensorFlow Lite model\r\n",
        "converter = tf.lite.TFLiteConverter.from_concrete_functions([concrete_func])\r\n",
        "converted_tflite_model = converter.convert()\r\n",
        "open(TFLITE_MODEL, \"wb\").write(converted_tflite_model)"
      ],
      "execution_count": null,
      "outputs": [
        {
          "output_type": "execute_result",
          "data": {
            "text/plain": [
              "59470728"
            ]
          },
          "metadata": {
            "tags": []
          },
          "execution_count": 31
        }
      ]
    }
  ]
}